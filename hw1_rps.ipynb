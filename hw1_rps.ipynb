{
 "cells": [
  {
   "cell_type": "code",
   "execution_count": 1,
   "id": "c6b2af93",
   "metadata": {},
   "outputs": [
    {
     "name": "stdout",
     "output_type": "stream",
     "text": [
      "Requirement already satisfied: kaggle_environments in c:\\users\\dash\\anaconda\\lib\\site-packages (1.9.11)\n",
      "Requirement already satisfied: numpy>=1.19.5 in c:\\users\\dash\\anaconda\\lib\\site-packages (from kaggle_environments) (1.23.3)\n",
      "Requirement already satisfied: requests>=2.25.1 in c:\\users\\dash\\anaconda\\lib\\site-packages (from kaggle_environments) (2.26.0)\n",
      "Requirement already satisfied: Flask>=1.1.2 in c:\\users\\dash\\anaconda\\lib\\site-packages (from kaggle_environments) (1.1.2)\n",
      "Requirement already satisfied: jsonschema>=3.0.1 in c:\\users\\dash\\anaconda\\lib\\site-packages (from kaggle_environments) (3.2.0)\n",
      "Requirement already satisfied: Werkzeug>=0.15 in c:\\users\\dash\\anaconda\\lib\\site-packages (from Flask>=1.1.2->kaggle_environments) (2.0.2)\n",
      "Requirement already satisfied: Jinja2>=2.10.1 in c:\\users\\dash\\anaconda\\lib\\site-packages (from Flask>=1.1.2->kaggle_environments) (2.11.3)\n",
      "Requirement already satisfied: itsdangerous>=0.24 in c:\\users\\dash\\anaconda\\lib\\site-packages (from Flask>=1.1.2->kaggle_environments) (2.0.1)\n",
      "Requirement already satisfied: click>=5.1 in c:\\users\\dash\\anaconda\\lib\\site-packages (from Flask>=1.1.2->kaggle_environments) (8.0.3)\n",
      "Requirement already satisfied: colorama in c:\\users\\dash\\anaconda\\lib\\site-packages (from click>=5.1->Flask>=1.1.2->kaggle_environments) (0.4.4)\n",
      "Requirement already satisfied: MarkupSafe>=0.23 in c:\\users\\dash\\anaconda\\lib\\site-packages (from Jinja2>=2.10.1->Flask>=1.1.2->kaggle_environments) (1.1.1)\n",
      "Requirement already satisfied: six>=1.11.0 in c:\\users\\dash\\anaconda\\lib\\site-packages (from jsonschema>=3.0.1->kaggle_environments) (1.16.0)\n",
      "Requirement already satisfied: pyrsistent>=0.14.0 in c:\\users\\dash\\anaconda\\lib\\site-packages (from jsonschema>=3.0.1->kaggle_environments) (0.18.0)\n",
      "Requirement already satisfied: attrs>=17.4.0 in c:\\users\\dash\\anaconda\\lib\\site-packages (from jsonschema>=3.0.1->kaggle_environments) (21.2.0)\n",
      "Requirement already satisfied: setuptools in c:\\users\\dash\\anaconda\\lib\\site-packages (from jsonschema>=3.0.1->kaggle_environments) (58.0.4)\n",
      "Requirement already satisfied: certifi>=2017.4.17 in c:\\users\\dash\\anaconda\\lib\\site-packages (from requests>=2.25.1->kaggle_environments) (2021.10.8)\n",
      "Requirement already satisfied: urllib3<1.27,>=1.21.1 in c:\\users\\dash\\anaconda\\lib\\site-packages (from requests>=2.25.1->kaggle_environments) (1.26.7)\n",
      "Requirement already satisfied: idna<4,>=2.5 in c:\\users\\dash\\anaconda\\lib\\site-packages (from requests>=2.25.1->kaggle_environments) (3.2)\n",
      "Requirement already satisfied: charset-normalizer~=2.0.0 in c:\\users\\dash\\anaconda\\lib\\site-packages (from requests>=2.25.1->kaggle_environments) (2.0.4)\n"
     ]
    }
   ],
   "source": [
    "!pip install kaggle_environments"
   ]
  },
  {
   "cell_type": "code",
   "execution_count": 2,
   "id": "92b0e819",
   "metadata": {},
   "outputs": [
    {
     "name": "stderr",
     "output_type": "stream",
     "text": [
      "C:\\Users\\Dash\\Anaconda\\lib\\site-packages\\scipy\\__init__.py:146: UserWarning: A NumPy version >=1.16.5 and <1.23.0 is required for this version of SciPy (detected version 1.23.3\n",
      "  warnings.warn(f\"A NumPy version >={np_minversion} and <{np_maxversion}\"\n"
     ]
    }
   ],
   "source": [
    "import numpy as np\n",
    "import pandas as pd\n",
    "from random import random \n",
    "\n",
    "import matplotlib.pyplot as plt\n",
    "import seaborn as sns\n",
    "\n",
    "from kaggle_environments import make, evaluate"
   ]
  },
  {
   "cell_type": "code",
   "execution_count": 3,
   "id": "61e0b081",
   "metadata": {},
   "outputs": [
    {
     "name": "stdout",
     "output_type": "stream",
     "text": [
      "Overwriting rock_agent.py\n"
     ]
    }
   ],
   "source": [
    "%%writefile rock_agent.py\n",
    "def rock_agent(observation, configuration):\n",
    "    \"\"\"Always returns 'rock'\"\"\"\n",
    "    return 0"
   ]
  },
  {
   "cell_type": "code",
   "execution_count": 4,
   "id": "1a5ce4d2",
   "metadata": {},
   "outputs": [
    {
     "name": "stdout",
     "output_type": "stream",
     "text": [
      "Overwriting paper_agent.py\n"
     ]
    }
   ],
   "source": [
    "%%writefile paper_agent.py\n",
    "def paper_agent(observation, configuration):\n",
    "    \"\"\"Always returns 'paper'\"\"\"\n",
    "    return 1"
   ]
  },
  {
   "cell_type": "code",
   "execution_count": 5,
   "id": "71e013d3",
   "metadata": {},
   "outputs": [
    {
     "name": "stdout",
     "output_type": "stream",
     "text": [
      "Overwriting scissors_agent.py\n"
     ]
    }
   ],
   "source": [
    "%%writefile scissors_agent.py\n",
    "def scissors_agent(observation, configuration):\n",
    "    \"\"\"Always returns 'scissors'\"\"\"\n",
    "    return 2"
   ]
  },
  {
   "cell_type": "code",
   "execution_count": 6,
   "id": "9cd81f28",
   "metadata": {},
   "outputs": [
    {
     "name": "stdout",
     "output_type": "stream",
     "text": [
      "Overwriting copy_opponent.py\n"
     ]
    }
   ],
   "source": [
    "%%writefile copy_opponent.py\n",
    "import random\n",
    "\n",
    "def copy_opponent(observation, configuration):\n",
    "    \"\"\"Returns opponet's last step, first step random\"\"\"\n",
    "    if observation.step > 0:\n",
    "        return observation.lastOpponentAction\n",
    "    else:\n",
    "        return random.randrange(0, configuration.signs)"
   ]
  },
  {
   "cell_type": "code",
   "execution_count": 7,
   "id": "bc97a20a",
   "metadata": {},
   "outputs": [
    {
     "name": "stdout",
     "output_type": "stream",
     "text": [
      "Overwriting random_agent.py\n"
     ]
    }
   ],
   "source": [
    "%%writefile random_agent.py\n",
    "import random \n",
    "\n",
    "def random_agent(observation, configuration):\n",
    "    \"\"\"Returns always random\"\"\"\n",
    "    return random.randrange(0, 3)\n"
   ]
  },
  {
   "cell_type": "code",
   "execution_count": 8,
   "id": "3186ba7a",
   "metadata": {},
   "outputs": [
    {
     "name": "stdout",
     "output_type": "stream",
     "text": [
      "Overwriting plus_opponent.py\n"
     ]
    }
   ],
   "source": [
    "%%writefile plus_opponent.py\n",
    "import random\n",
    "\n",
    "def plus_opponent(observation, configuration):\n",
    "    \"\"\"Returns opponent's last step counter, first step - 'rock'\"\"\"\n",
    "    if observation.step > 0:\n",
    "        return (observation.lastOpponentAction+1) % 3 #stay inside [0,1,2]\n",
    "    else:\n",
    "        return 0"
   ]
  },
  {
   "cell_type": "code",
   "execution_count": 9,
   "id": "ffa5487c",
   "metadata": {},
   "outputs": [
    {
     "name": "stdout",
     "output_type": "stream",
     "text": [
      "Overwriting minus_opponent.py\n"
     ]
    }
   ],
   "source": [
    "%%writefile minus_opponent.py\n",
    "import random\n",
    "\n",
    "def minus_opponent(observation, configuration):\n",
    "    \"\"\"Returns opponent's last step inferior, first step - 'scissors'\"\"\"\n",
    "    if observation.step > 0:\n",
    "        return (observation.lastOpponentAction-1) % 3\n",
    "    else:\n",
    "        return 2"
   ]
  },
  {
   "cell_type": "code",
   "execution_count": 10,
   "id": "919e2ed5",
   "metadata": {},
   "outputs": [
    {
     "name": "stdout",
     "output_type": "stream",
     "text": [
      "Overwriting onetwothree_opponent.py\n"
     ]
    }
   ],
   "source": [
    "%%writefile onetwothree_opponent.py \n",
    "def onetwothree_opponent(observation, configuration):\n",
    "    \"\"\"Returns value in cycle (0, 1, 2)\"\"\"\n",
    "    return observation.step % 3 "
   ]
  },
  {
   "cell_type": "code",
   "execution_count": 11,
   "id": "70112c39",
   "metadata": {},
   "outputs": [
    {
     "name": "stdout",
     "output_type": "stream",
     "text": [
      "Overwriting twothreeone_opponent.py\n"
     ]
    }
   ],
   "source": [
    "%%writefile twothreeone_opponent.py \n",
    "def twothreeone_opponent(observation, configuration):\n",
    "    \"\"\"Returns value in cycle (1, 2, 0)\"\"\"\n",
    "    return (observation.step - 2 )% 3 "
   ]
  },
  {
   "cell_type": "code",
   "execution_count": 12,
   "id": "fed95d84",
   "metadata": {},
   "outputs": [
    {
     "name": "stdout",
     "output_type": "stream",
     "text": [
      "Overwriting threeonetwo_opponent.py\n"
     ]
    }
   ],
   "source": [
    "%%writefile threeonetwo_opponent.py \n",
    "def threeonetwo_opponent(observation, configuration):\n",
    "    \"\"\"Returns value in cycle (2, 1, 0)\"\"\"\n",
    "    return (observation.step - 1 )% 3 "
   ]
  },
  {
   "cell_type": "code",
   "execution_count": 13,
   "id": "e9c4f6f6",
   "metadata": {},
   "outputs": [
    {
     "name": "stdout",
     "output_type": "stream",
     "text": [
      "Overwriting time_agent.py\n"
     ]
    }
   ],
   "source": [
    "%%writefile time_agent.py\n",
    "from datetime import datetime \n",
    "\n",
    "def time_agent(observation, configuration):\n",
    "    \"\"\"Returns remainder of 3 from difference of function creation and execution time\"\"\"\n",
    "    then = datetime(2022, 9, 30, 22, 45, 15)        # Random date in the past\n",
    "    now  = datetime.now()                         # Now\n",
    "    dur = (now - then).total_seconds() \n",
    "    return round(dur) % 3"
   ]
  },
  {
   "cell_type": "code",
   "execution_count": 14,
   "id": "73a6c946",
   "metadata": {},
   "outputs": [
    {
     "name": "stdout",
     "output_type": "stream",
     "text": [
      "Overwriting even_agent.py\n"
     ]
    }
   ],
   "source": [
    "%%writefile even_agent.py\n",
    "\n",
    "def even_agent(observation, configuration):\n",
    "    \"\"\"Returns 0 and 2 in cycle\"\"\"\n",
    "    return 2*(observation.step % 2)"
   ]
  },
  {
   "cell_type": "code",
   "execution_count": 15,
   "id": "c132baff",
   "metadata": {},
   "outputs": [],
   "source": [
    "#list of all agents to compete\n",
    "agents = [\n",
    "    \"rock_agent.py\", \n",
    "    \"paper_agent.py\", \n",
    "    \"copy_opponent.py\", \n",
    "    \"scissors_agent.py\", \n",
    "    \"plus_opponent.py\",\n",
    "    \"random_agent.py\", \n",
    "    \"minus_opponent.py\",\n",
    "    \"onetwothree_opponent.py\",\n",
    "    \"twothreeone_opponent.py\",\n",
    "    \"threeonetwo_opponent.py\",\n",
    "    \"time_agent.py\",\n",
    "    \"even_agent.py\"\n",
    "]"
   ]
  },
  {
   "cell_type": "code",
   "execution_count": 20,
   "id": "63787aab",
   "metadata": {},
   "outputs": [],
   "source": [
    "#create null matrix for results\n",
    "res =[]\n",
    "for i in range(len(agents)):\n",
    "        res.append([0]*len(agents))\n",
    "\n",
    "#each participant plays with each exsept himself\n",
    "for i in range(len(agents)):\n",
    "    for j in range(i+1, len(agents)):\n",
    "        ans = evaluate(\n",
    "            \"rps\", \n",
    "            [agents[i], agents[j]], \n",
    "            configuration={\"episodeSteps\": 100, \"tieRewardThreshold\": 1} \n",
    "        )\n",
    "        res[i][j]=ans[0][0] #fill results symmetrically\n",
    "        res[j][i]=ans[0][1]"
   ]
  },
  {
   "cell_type": "code",
   "execution_count": 17,
   "id": "239bf173",
   "metadata": {},
   "outputs": [],
   "source": [
    "# count number of victories for each participant\n",
    "vic = []\n",
    "for i in range(len(agents)):\n",
    "    cnt_vic=0\n",
    "    for j in range(len(agents)):\n",
    "        if res[i][j]>0:\n",
    "            cnt_vic += 1\n",
    "    vic.append(cnt_vic)"
   ]
  },
  {
   "cell_type": "code",
   "execution_count": 18,
   "id": "2e68cdfb",
   "metadata": {},
   "outputs": [],
   "source": [
    "# find indeces of victors\n",
    "i_victors =[]\n",
    "for i in range(len(vic)):\n",
    "    if vic[i]==max(vic):\n",
    "        i_victors.append(i)"
   ]
  },
  {
   "cell_type": "code",
   "execution_count": 19,
   "id": "f7c658fc",
   "metadata": {},
   "outputs": [
    {
     "name": "stdout",
     "output_type": "stream",
     "text": [
      "The winner is  plus_opponent.py !\n"
     ]
    }
   ],
   "source": [
    "if len(i_victors)>1:\n",
    "    print(\"The winners are \", '\\n', *[agents[i] for i in i_victors] ,\"!\")\n",
    "else:\n",
    "    print(\"The winner is \", agents[i_victors[0]], \"!\")\n"
   ]
  }
 ],
 "metadata": {
  "kernelspec": {
   "display_name": "Python 3 (ipykernel)",
   "language": "python",
   "name": "python3"
  },
  "language_info": {
   "codemirror_mode": {
    "name": "ipython",
    "version": 3
   },
   "file_extension": ".py",
   "mimetype": "text/x-python",
   "name": "python",
   "nbconvert_exporter": "python",
   "pygments_lexer": "ipython3",
   "version": "3.9.7"
  }
 },
 "nbformat": 4,
 "nbformat_minor": 5
}
